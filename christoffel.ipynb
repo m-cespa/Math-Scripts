{
 "cells": [
  {
   "cell_type": "code",
   "execution_count": 24,
   "metadata": {},
   "outputs": [
    {
     "data": {
      "text/latex": [
       "$\\displaystyle The\\ Connection\\ coefficients\\ are:$"
      ],
      "text/plain": [
       "<IPython.core.display.Math object>"
      ]
     },
     "metadata": {},
     "output_type": "display_data"
    },
    {
     "data": {
      "text/latex": [
       "$\\displaystyle \\Gamma^{\\theta}_{\\theta \\theta} = 0 ; \\Gamma^{\\theta}_{\\theta \\phi} = 0 ; \\Gamma^{\\theta}_{\\phi \\theta} = 0 ; \\Gamma^{\\theta}_{\\phi \\phi} = - 0.5 \\sin{\\left(2 \\theta \\right)} ; \\Gamma^{\\phi}_{\\theta \\theta} = 0 ; \\Gamma^{\\phi}_{\\theta \\phi} = \\frac{1.0}{\\tan{\\left(\\theta \\right)}} ; \\Gamma^{\\phi}_{\\phi \\theta} = \\frac{1.0}{\\tan{\\left(\\theta \\right)}} ; \\Gamma^{\\phi}_{\\phi \\phi} = 0 ; $"
      ],
      "text/plain": [
       "<IPython.core.display.Math object>"
      ]
     },
     "metadata": {},
     "output_type": "display_data"
    },
    {
     "data": {
      "text/latex": [
       "$\\displaystyle The\\ Riemann\\ Curvature\\ Tensor\\ coefficients\\ are:$"
      ],
      "text/plain": [
       "<IPython.core.display.Math object>"
      ]
     },
     "metadata": {},
     "output_type": "display_data"
    },
    {
     "data": {
      "text/latex": [
       "$\\displaystyle R^{\\theta}_{\\theta \\theta \\theta} = 0 ; R^{\\theta}_{\\theta \\theta \\phi} = 0 ; R^{\\theta}_{\\theta \\phi \\theta} = 0 ; R^{\\theta}_{\\theta \\phi \\phi} = - \\frac{0.5 \\sin{\\left(2 \\theta \\right)}}{\\tan{\\left(\\theta \\right)}} + 1.0 \\cos{\\left(2 \\theta \\right)} ; R^{\\theta}_{\\phi \\theta \\theta} = 0 ; R^{\\theta}_{\\phi \\theta \\phi} = \\frac{0.5 \\sin{\\left(2 \\theta \\right)}}{\\tan{\\left(\\theta \\right)}} - 1.0 \\cos{\\left(2 \\theta \\right)} ; R^{\\theta}_{\\phi \\phi \\theta} = 0 ; R^{\\theta}_{\\phi \\phi \\phi} = 0 ; R^{\\phi}_{\\theta \\theta \\theta} = 0 ; R^{\\phi}_{\\theta \\theta \\phi} = 0 ; R^{\\phi}_{\\theta \\phi \\theta} = 1.0 ; R^{\\phi}_{\\theta \\phi \\phi} = 0 ; R^{\\phi}_{\\phi \\theta \\theta} = -1.0 ; R^{\\phi}_{\\phi \\theta \\phi} = 0 ; R^{\\phi}_{\\phi \\phi \\theta} = 0 ; R^{\\phi}_{\\phi \\phi \\phi} = 0 ; $"
      ],
      "text/plain": [
       "<IPython.core.display.Math object>"
      ]
     },
     "metadata": {},
     "output_type": "display_data"
    }
   ],
   "source": [
    "import sympy as sp\n",
    "from sympy import sin, tan, cos, pretty, latex\n",
    "from IPython.display import display, Math\n",
    "from sympy.core.symbol import Symbol\n",
    "\n",
    "theta, phi = sp.symbols('theta phi')\n",
    "coords = [theta, phi]\n",
    "\n",
    "g = sp.Matrix([[1, 0],\n",
    "               [0, sin(theta)**2]])\n",
    "\n",
    "g_inv = g.inv()\n",
    "\n",
    "n = len(coords)\n",
    "Gamma = sp.MutableDenseNDimArray.zeros(n, n, n)\n",
    "Riemann = sp.MutableDenseNDimArray.zeros(n, n, n, n)\n",
    "\n",
    "# notation convention here is \n",
    "# Gamma[upper, lower, lower] = Γ[ρ, μ, ν]\n",
    "# Riemann[upper, lower, lower, lower] = R[d, a, b, c]\n",
    "\n",
    "for rho in range(n):\n",
    "    for mu in range(n):\n",
    "        for nu in range(n):\n",
    "            # christoffel symbol formula in terms of metric\n",
    "            out = sum(g_inv[rho, sigma] * (\n",
    "                sp.diff(g[sigma, nu], coords[mu]) +\n",
    "                sp.diff(g[sigma, mu], coords[nu]) -\n",
    "                sp.diff(g[mu, nu], coords[sigma])\n",
    "            ) for sigma in range(n))\n",
    "\n",
    "            Gamma[rho, mu, nu] = sp.simplify(0.5 * out)\n",
    "\n",
    "for d in range(n):\n",
    "    for a in range(n):\n",
    "        for b in range(n):\n",
    "            for c in range(n):\n",
    "                # Riemann curvature tensor formula in terms of christoffel\n",
    "                term1 = sp.diff(Gamma[d, b, c], coords[a])\n",
    "                term2 = sp.diff(Gamma[d, a, c], coords[b])\n",
    "                term3 = sum(Gamma[e, a, c] * Gamma[d, b, e] for e in range(n))\n",
    "                term4 = sum(Gamma[e, b, c] * Gamma[d, a, e] for e in range(n))\n",
    "            \n",
    "                Riemann[d, a, b, c] = sp.simplify(-term1 + term2 + term3 - term4)\n",
    "\n",
    "def convert_to_latex(coord: Symbol):\n",
    "    greek_letters = {\n",
    "        'alpha': '\\\\alpha', 'beta': '\\\\beta', 'gamma': '\\\\gamma', 'delta': '\\\\delta',\n",
    "        'epsilon': '\\\\epsilon', 'zeta': '\\\\zeta', 'eta': '\\\\eta', 'theta': '\\\\theta',\n",
    "        'iota': '\\\\iota', 'kappa': '\\\\kappa', 'lambda': '\\\\lambda', 'mu': '\\\\mu',\n",
    "        'nu': '\\\\nu', 'xi': '\\\\xi', 'omicron': '\\\\omicron', 'pi': '\\\\pi',\n",
    "        'rho': '\\\\rho', 'sigma': '\\\\sigma', 'tau': '\\\\tau', 'upsilon': '\\\\upsilon',\n",
    "        'phi': '\\\\phi', 'chi': '\\\\chi', 'psi': '\\\\psi', 'omega': '\\\\omega'\n",
    "    }\n",
    "\n",
    "    # checks if coordinate is greek letter\n",
    "    coord_name = coord.name\n",
    "    if coord_name in greek_letters:\n",
    "        return greek_letters[coord_name]\n",
    "    else:\n",
    "        return coord_name\n",
    "\n",
    "display(Math(r\"The\\ Connection\\ coefficients\\ are:\"))\n",
    "connections_lst = ''\n",
    "for rho in range(n):\n",
    "    for mu in range(n):\n",
    "        for nu in range(n):\n",
    "            # converting coordinate symbols to latex format\n",
    "            rho_latex = convert_to_latex(coords[rho])\n",
    "            mu_latex = convert_to_latex(coords[mu])\n",
    "            nu_latex = convert_to_latex(coords[nu])\n",
    "\n",
    "            symbol = f\"\\\\Gamma^{{{rho_latex}}}_{{{mu_latex} {nu_latex}}}\"\n",
    "            value = latex(Gamma[rho, mu, nu])\n",
    "            equation = f\"{symbol} = {value} ; \"\n",
    "\n",
    "            connections_lst += equation\n",
    "\n",
    "display(Math(connections_lst))\n",
    "\n",
    "display(Math(r\"The\\ Riemann\\ Curvature\\ Tensor\\ coefficients\\ are:\"))\n",
    "riemman_lst = ''\n",
    "for d in range(n):\n",
    "    for a in range(n):\n",
    "        for b in range(n):\n",
    "            for c in range(n):\n",
    "                # converting coordinate symbols to latex format\n",
    "                a_latex = convert_to_latex(coords[a])\n",
    "                b_latex = convert_to_latex(coords[b])\n",
    "                c_latex = convert_to_latex(coords[c])\n",
    "                d_latex = convert_to_latex(coords[d])\n",
    "\n",
    "                symbol = f\"R^{{{d_latex}}}_{{{a_latex} {b_latex} {c_latex}}}\"\n",
    "                value = latex(Riemann[d, a, b, c])\n",
    "                equation = f\"{symbol} = {value} ; \"\n",
    "\n",
    "                riemman_lst += equation\n",
    "\n",
    "display(Math(riemman_lst))\n",
    "\n"
   ]
  }
 ],
 "metadata": {
  "kernelspec": {
   "display_name": "env",
   "language": "python",
   "name": "python3"
  },
  "language_info": {
   "codemirror_mode": {
    "name": "ipython",
    "version": 3
   },
   "file_extension": ".py",
   "mimetype": "text/x-python",
   "name": "python",
   "nbconvert_exporter": "python",
   "pygments_lexer": "ipython3",
   "version": "3.12.4"
  }
 },
 "nbformat": 4,
 "nbformat_minor": 2
}
